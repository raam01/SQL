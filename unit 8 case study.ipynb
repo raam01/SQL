{
 "cells": [
  {
   "cell_type": "code",
   "execution_count": 1,
   "metadata": {},
   "outputs": [],
   "source": [
    "from sqlalchemy import create_engine\n",
    "engine=create_engine('sqlite:///sqlite_db_pythonsqlite.db')"
   ]
  },
  {
   "cell_type": "code",
   "execution_count": 2,
   "metadata": {},
   "outputs": [],
   "source": [
    "import pandas as pd"
   ]
  },
  {
   "cell_type": "code",
   "execution_count": 13,
   "metadata": {},
   "outputs": [],
   "source": [
    "\"\"\"  QUESTIONS:\n",
    "/* Q10: Produce a list of facilities with a total revenue less than 1000.\n",
    "The output of facility name and total revenue, sorted by revenue. Remember\n",
    "that there's a different cost for guests and members! */  \"\"\"\n",
    "\n",
    "sql_q10='''SELECT name, sum(sub.revenue) as total_revenue\n",
    "FROM (SELECT name, CASE WHEN memid!=0 THEN slots*membercost ELSE slots*guestcost END as `revenue`\n",
    "FROM `Bookings` \n",
    "LEFT JOIN `Facilities` on Bookings.`facid`=Facilities.`facid`) as sub\n",
    "group by name\n",
    "/* Can't use where after regrouping.Need to use having */\n",
    "having (total_revenue<=1000)\n",
    "ORDER BY total_revenue\n",
    "'''\n"
   ]
  },
  {
   "cell_type": "code",
   "execution_count": 14,
   "metadata": {},
   "outputs": [],
   "source": [
    "df=pd.read_sql_query(sql_q10,engine)"
   ]
  },
  {
   "cell_type": "code",
   "execution_count": 15,
   "metadata": {},
   "outputs": [
    {
     "name": "stdout",
     "output_type": "stream",
     "text": [
      "            name  total_revenue\n",
      "0   Table Tennis            180\n",
      "1  Snooker Table            240\n",
      "2     Pool Table            270\n"
     ]
    }
   ],
   "source": [
    "print(df)"
   ]
  },
  {
   "cell_type": "code",
   "execution_count": 17,
   "metadata": {},
   "outputs": [],
   "source": [
    "\"\"\"/* Q11: Produce a report of members and who recommended them \n",
    "in alphabetic surname,firstname order */\n",
    "\"\"\"\n",
    "    \n",
    "sql_q11='''SELECT m1.surname as surname,m1.firstname as firstname, m2.surname as rec_surname, m2.firstname as rec_firstname\n",
    "FROM Members as m1\n",
    "INNER JOIN Members as m2 on m1.recommendedby =m2.memid\n",
    "WHERE m1.recommendedby IS NOT NULL and m1.recommendedby!=0\n",
    "ORDER BY surname,firstname'''"
   ]
  },
  {
   "cell_type": "code",
   "execution_count": 19,
   "metadata": {},
   "outputs": [
    {
     "name": "stdout",
     "output_type": "stream",
     "text": [
      "              surname  firstname rec_surname rec_firstname\n",
      "0               Bader   Florence    Stibbons        Ponder\n",
      "1               Baker       Anne    Stibbons        Ponder\n",
      "2               Baker    Timothy     Farrell        Jemima\n",
      "3              Boothe        Tim      Rownam           Tim\n",
      "4             Butters     Gerald       Smith        Darren\n",
      "5              Coplin       Joan       Baker       Timothy\n",
      "6             Crumpet      Erica       Smith         Tracy\n",
      "7                Dare      Nancy    Joplette        Janice\n",
      "8             Genting    Matthew     Butters        Gerald\n",
      "9                Hunt       John     Purview     Millicent\n",
      "10              Jones      David    Joplette        Janice\n",
      "11              Jones    Douglas       Jones         David\n",
      "12           Joplette     Janice       Smith        Darren\n",
      "13          Mackenzie       Anna       Smith        Darren\n",
      "14               Owen    Charles       Smith        Darren\n",
      "15             Pinker      David     Farrell        Jemima\n",
      "16            Purview  Millicent       Smith         Tracy\n",
      "17             Rumney  Henrietta     Genting       Matthew\n",
      "18             Sarwin  Ramnaresh       Bader      Florence\n",
      "19              Smith       Jack       Smith        Darren\n",
      "20           Stibbons     Ponder       Tracy        Burton\n",
      "21  Worthington-Smyth      Henry       Smith         Tracy\n"
     ]
    }
   ],
   "source": [
    "df=pd.read_sql_query(sql_q11,engine)\n",
    "print(df)"
   ]
  },
  {
   "cell_type": "code",
   "execution_count": 21,
   "metadata": {},
   "outputs": [],
   "source": [
    "\"\"\"/* Q12: Find the facilities with their usage by member, \n",
    "but not guests */\"\"\"\n",
    "\n",
    "\n",
    "sql_q12='''SELECT name,COUNT(*) as `Usage`\n",
    "FROM `Bookings` \n",
    "LEFT JOIN Facilities on Bookings.facid=Facilities.facid\n",
    "WHERE memid!=0\n",
    "GROUP BY name\n",
    "\n",
    "'''"
   ]
  },
  {
   "cell_type": "code",
   "execution_count": 22,
   "metadata": {},
   "outputs": [
    {
     "name": "stdout",
     "output_type": "stream",
     "text": [
      "              name  Usage\n",
      "0  Badminton Court    344\n",
      "1   Massage Room 1    421\n",
      "2   Massage Room 2     27\n",
      "3       Pool Table    783\n",
      "4    Snooker Table    421\n",
      "5     Squash Court    195\n",
      "6     Table Tennis    385\n",
      "7   Tennis Court 1    308\n",
      "8   Tennis Court 2    276\n"
     ]
    }
   ],
   "source": [
    "df=pd.read_sql_query(sql_q12,engine)\n",
    "print(df)"
   ]
  },
  {
   "cell_type": "code",
   "execution_count": 29,
   "metadata": {},
   "outputs": [],
   "source": [
    "\"\"\"/* Q13: Find the facilities usage by month, but not guests */\n",
    "\n",
    "\"\"\"\n",
    "\n",
    "sql_q13='''SELECT name,STRFTIME('%m', starttime) AS month,COUNT(*) as `Usage`\n",
    "FROM `Bookings` \n",
    "LEFT JOIN Facilities on Bookings.facid=Facilities.facid\n",
    "WHERE memid!=0\n",
    "GROUP BY name,month\n",
    "'''"
   ]
  },
  {
   "cell_type": "code",
   "execution_count": 30,
   "metadata": {},
   "outputs": [
    {
     "name": "stdout",
     "output_type": "stream",
     "text": [
      "               name month  Usage\n",
      "0   Badminton Court    07     51\n",
      "1   Badminton Court    08    132\n",
      "2   Badminton Court    09    161\n",
      "3    Massage Room 1    07     77\n",
      "4    Massage Room 1    08    153\n",
      "5    Massage Room 1    09    191\n",
      "6    Massage Room 2    07      4\n",
      "7    Massage Room 2    08      9\n",
      "8    Massage Room 2    09     14\n",
      "9        Pool Table    07    103\n",
      "10       Pool Table    08    272\n",
      "11       Pool Table    09    408\n",
      "12    Snooker Table    07     68\n",
      "13    Snooker Table    08    154\n",
      "14    Snooker Table    09    199\n",
      "15     Squash Court    07     23\n",
      "16     Squash Court    08     85\n",
      "17     Squash Court    09     87\n",
      "18     Table Tennis    07     48\n",
      "19     Table Tennis    08    143\n",
      "20     Table Tennis    09    194\n",
      "21   Tennis Court 1    07     65\n",
      "22   Tennis Court 1    08    111\n",
      "23   Tennis Court 1    09    132\n",
      "24   Tennis Court 2    07     41\n",
      "25   Tennis Court 2    08    109\n",
      "26   Tennis Court 2    09    126\n"
     ]
    }
   ],
   "source": [
    "df=pd.read_sql_query(sql_q13,engine)\n",
    "print(df)"
   ]
  },
  {
   "cell_type": "code",
   "execution_count": null,
   "metadata": {},
   "outputs": [],
   "source": []
  }
 ],
 "metadata": {
  "kernelspec": {
   "display_name": "Python 3",
   "language": "python",
   "name": "python3"
  },
  "language_info": {
   "codemirror_mode": {
    "name": "ipython",
    "version": 3
   },
   "file_extension": ".py",
   "mimetype": "text/x-python",
   "name": "python",
   "nbconvert_exporter": "python",
   "pygments_lexer": "ipython3",
   "version": "3.7.6"
  }
 },
 "nbformat": 4,
 "nbformat_minor": 4
}
